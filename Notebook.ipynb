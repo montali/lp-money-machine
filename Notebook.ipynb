{
 "cells": [
  {
   "cell_type": "markdown",
   "metadata": {},
   "source": [
    "# Stock optimization using PuLP\n",
    "This notebook's aim is trying to create a portfolio of stocks from historical stocks data. To know more, check the README.\n",
    "First of all, we'd like to add the required libraries: we'll need PuLP, a Linear Programming library for Python, and Pandas to manage the dataset."
   ]
  },
  {
   "cell_type": "code",
   "execution_count": 1,
   "metadata": {
    "pycharm": {
     "name": "#%%\n"
    }
   },
   "outputs": [
    {
     "name": "stdout",
     "output_type": "stream",
     "text": [
      "Requirement already satisfied: pandas in /opt/anaconda3/lib/python3.8/site-packages (1.1.3)\n",
      "Requirement already satisfied: pulp in /opt/anaconda3/lib/python3.8/site-packages (2.4)\n",
      "Requirement already satisfied: numpy>=1.15.4 in /opt/anaconda3/lib/python3.8/site-packages (from pandas) (1.19.2)\n",
      "Requirement already satisfied: pytz>=2017.2 in /opt/anaconda3/lib/python3.8/site-packages (from pandas) (2020.1)\n",
      "Requirement already satisfied: python-dateutil>=2.7.3 in /opt/anaconda3/lib/python3.8/site-packages (from pandas) (2.8.1)\n",
      "Requirement already satisfied: amply>=0.1.2 in /opt/anaconda3/lib/python3.8/site-packages (from pulp) (0.1.4)\n",
      "Requirement already satisfied: six>=1.5 in /opt/anaconda3/lib/python3.8/site-packages (from python-dateutil>=2.7.3->pandas) (1.15.0)\n",
      "Requirement already satisfied: pyparsing in /opt/anaconda3/lib/python3.8/site-packages (from amply>=0.1.2->pulp) (2.4.7)\n",
      "Requirement already satisfied: docutils>=0.3 in /opt/anaconda3/lib/python3.8/site-packages (from amply>=0.1.2->pulp) (0.16)\n"
     ]
    }
   ],
   "source": [
    "!pip3 install pandas pulp\n",
    "import pandas as pd\n",
    "from pulp import *"
   ]
  },
  {
   "cell_type": "code",
   "execution_count": 2,
   "metadata": {},
   "outputs": [
    {
     "name": "stdout",
     "output_type": "stream",
     "text": [
      "Requirement already satisfied: tqdm in /opt/anaconda3/lib/python3.8/site-packages (4.50.2)\r\n"
     ]
    }
   ],
   "source": [
    "!pip install tqdm\n",
    "from tqdm import tqdm"
   ]
  },
  {
   "cell_type": "code",
   "execution_count": 3,
   "metadata": {},
   "outputs": [],
   "source": [
    "budget = 1000"
   ]
  },
  {
   "cell_type": "markdown",
   "metadata": {
    "pycharm": {
     "name": "#%%\n"
    }
   },
   "source": [
    "## Data retrieval\n",
    "We will first try to use the data from the [S&P 500 stocks](https://en.wikipedia.org/wiki/List_of_S%26P_500_companies), for which the historical prices [can be found on Kaggle](https://www.kaggle.com/camnugent/sandp500). Let's therefore start by importing these data."
   ]
  },
  {
   "cell_type": "code",
   "execution_count": 4,
   "metadata": {},
   "outputs": [],
   "source": [
    "historical_data = pd.read_csv('all_stocks_5yr.csv')\n",
    "historical_data = historical_data.dropna()"
   ]
  },
  {
   "cell_type": "markdown",
   "metadata": {},
   "source": [
    "# Solving the first problem: optimizing for a buy in the first day and sell on the last\n",
    "The simplest problem to solve would be the following: given our budget of 1000$, which stocks should we buy for a long-term 5 year investment, in which we can only sell on the last day? This will serve more as a **toy problem** to experiment with PuLP: the solution will obviously just be the maximum possible quantity of stocks of the company with the highest difference between opening and closing."
   ]
  },
  {
   "cell_type": "code",
   "execution_count": 5,
   "metadata": {},
   "outputs": [],
   "source": [
    "long_term = LpProblem(\"Long-term_investment\", LpMaximize)"
   ]
  },
  {
   "cell_type": "markdown",
   "metadata": {},
   "source": [
    "## Variables\n",
    "To do this, we'll need to throw away lots of data: we're just interested in the buy prices (opening price for a stock on the first day, i.e. 2013-02-08) and the sell prices (closing price on the last day, i.e. 2018-02-07). As stated in the README, we - for now - only have one constraint: we must spend less than our budget.\n",
    "Let's start to define the variables: we'll want one variable per available stock."
   ]
  },
  {
   "cell_type": "code",
   "execution_count": 6,
   "metadata": {
    "scrolled": true
   },
   "outputs": [
    {
     "data": {
      "text/html": [
       "<div>\n",
       "<style scoped>\n",
       "    .dataframe tbody tr th:only-of-type {\n",
       "        vertical-align: middle;\n",
       "    }\n",
       "\n",
       "    .dataframe tbody tr th {\n",
       "        vertical-align: top;\n",
       "    }\n",
       "\n",
       "    .dataframe thead th {\n",
       "        text-align: right;\n",
       "    }\n",
       "</style>\n",
       "<table border=\"1\" class=\"dataframe\">\n",
       "  <thead>\n",
       "    <tr style=\"text-align: right;\">\n",
       "      <th></th>\n",
       "      <th>Name</th>\n",
       "      <th>Difference</th>\n",
       "      <th>InitialPrice</th>\n",
       "    </tr>\n",
       "  </thead>\n",
       "  <tbody>\n",
       "    <tr>\n",
       "      <th>0</th>\n",
       "      <td>AAL</td>\n",
       "      <td>36.3300</td>\n",
       "      <td>15.0700</td>\n",
       "    </tr>\n",
       "    <tr>\n",
       "      <th>1</th>\n",
       "      <td>AAPL</td>\n",
       "      <td>91.8258</td>\n",
       "      <td>67.7142</td>\n",
       "    </tr>\n",
       "    <tr>\n",
       "      <th>2</th>\n",
       "      <td>AAP</td>\n",
       "      <td>31.5900</td>\n",
       "      <td>78.3400</td>\n",
       "    </tr>\n",
       "    <tr>\n",
       "      <th>3</th>\n",
       "      <td>ABBV</td>\n",
       "      <td>77.2500</td>\n",
       "      <td>36.3700</td>\n",
       "    </tr>\n",
       "    <tr>\n",
       "      <th>4</th>\n",
       "      <td>ABC</td>\n",
       "      <td>47.7000</td>\n",
       "      <td>46.5200</td>\n",
       "    </tr>\n",
       "    <tr>\n",
       "      <th>...</th>\n",
       "      <td>...</td>\n",
       "      <td>...</td>\n",
       "      <td>...</td>\n",
       "    </tr>\n",
       "    <tr>\n",
       "      <th>500</th>\n",
       "      <td>XYL</td>\n",
       "      <td>44.7800</td>\n",
       "      <td>27.0100</td>\n",
       "    </tr>\n",
       "    <tr>\n",
       "      <th>501</th>\n",
       "      <td>YUM</td>\n",
       "      <td>16.4300</td>\n",
       "      <td>63.7000</td>\n",
       "    </tr>\n",
       "    <tr>\n",
       "      <th>502</th>\n",
       "      <td>ZBH</td>\n",
       "      <td>45.7600</td>\n",
       "      <td>75.0200</td>\n",
       "    </tr>\n",
       "    <tr>\n",
       "      <th>503</th>\n",
       "      <td>ZION</td>\n",
       "      <td>29.9900</td>\n",
       "      <td>24.0300</td>\n",
       "    </tr>\n",
       "    <tr>\n",
       "      <th>504</th>\n",
       "      <td>ZTS</td>\n",
       "      <td>41.5500</td>\n",
       "      <td>32.3100</td>\n",
       "    </tr>\n",
       "  </tbody>\n",
       "</table>\n",
       "<p>505 rows × 3 columns</p>\n",
       "</div>"
      ],
      "text/plain": [
       "     Name  Difference  InitialPrice\n",
       "0     AAL     36.3300       15.0700\n",
       "1    AAPL     91.8258       67.7142\n",
       "2     AAP     31.5900       78.3400\n",
       "3    ABBV     77.2500       36.3700\n",
       "4     ABC     47.7000       46.5200\n",
       "..    ...         ...           ...\n",
       "500   XYL     44.7800       27.0100\n",
       "501   YUM     16.4300       63.7000\n",
       "502   ZBH     45.7600       75.0200\n",
       "503  ZION     29.9900       24.0300\n",
       "504   ZTS     41.5500       32.3100\n",
       "\n",
       "[505 rows x 3 columns]"
      ]
     },
     "execution_count": 6,
     "metadata": {},
     "output_type": "execute_result"
    }
   ],
   "source": [
    "# Let's start by saving our stock symbols into a list\n",
    "symbols = historical_data[\"Name\"].unique()\n",
    "# and create a DataFrame to store the differences in\n",
    "prices = pd.DataFrame(columns=[\"Name\", \"Difference\"])\n",
    "# Then, for each of them, we take the first and last row\n",
    "for firm in symbols:\n",
    "    opening = historical_data[historical_data[\"Name\"]==firm].iloc[0][\"open\"]\n",
    "    closing = historical_data[historical_data[\"Name\"]==firm].iloc[-1][\"close\"]\n",
    "    if not opening != opening and not closing != closing: # This is a check for nans\n",
    "        prices = prices.append({\"Name\": firm, \"InitialPrice\":opening, \"Difference\": closing-opening}, ignore_index=True)\n",
    "prices"
   ]
  },
  {
   "cell_type": "code",
   "execution_count": 7,
   "metadata": {},
   "outputs": [],
   "source": [
    "# Then, for each difference we'll want to create a PuLP variable, with no upper/lower bounds, continuous: basically, the default\n",
    "variables = [LpVariable(firm) for firm in prices[\"Name\"]]"
   ]
  },
  {
   "cell_type": "markdown",
   "metadata": {},
   "source": [
    "## Objective function\n",
    "The objective function is pretty simple right now: we'll just have to sum the products of the difference between the opening and closing prices by the bought/sold quantity."
   ]
  },
  {
   "cell_type": "code",
   "execution_count": 8,
   "metadata": {},
   "outputs": [],
   "source": [
    "# Now, the objective function\n",
    "long_term += lpSum([prices.iloc[i][\"Difference\"] * variables[i] for i in range(len(prices[\"Name\"]))])"
   ]
  },
  {
   "cell_type": "markdown",
   "metadata": {},
   "source": [
    "## Constraints\n",
    "Finally, our constraint: we have a 1000$ budget."
   ]
  },
  {
   "cell_type": "code",
   "execution_count": 9,
   "metadata": {},
   "outputs": [],
   "source": [
    "long_term += (lpSum([prices.iloc[i][\"InitialPrice\"] * variables[i] for i in range(len(prices[\"Name\"]))])) <= 1000.00"
   ]
  },
  {
   "cell_type": "markdown",
   "metadata": {},
   "source": [
    "## Solution\n",
    "A final check of everything, then let's make the magic happen!"
   ]
  },
  {
   "cell_type": "code",
   "execution_count": 11,
   "metadata": {},
   "outputs": [
    {
     "name": "stdout",
     "output_type": "stream",
     "text": [
      "Unbounded\n"
     ]
    }
   ],
   "source": [
    "status = long_term.solve()\n",
    "print(LpStatus[status])"
   ]
  },
  {
   "cell_type": "code",
   "execution_count": 12,
   "metadata": {},
   "outputs": [
    {
     "name": "stdout",
     "output_type": "stream",
     "text": [
      "NVDA = 80.840744\n"
     ]
    }
   ],
   "source": [
    "# Each of the variables is printed with it's resolved optimum value\n",
    "for v in long_term.variables():\n",
    "    if v.varValue>0:\n",
    "        print(v.name, \"=\", v.varValue)"
   ]
  },
  {
   "cell_type": "markdown",
   "metadata": {},
   "source": [
    "## Nice!\n",
    "Everything went as expected: the solver returned the stock with the highest difference, with the quantity to buy. This is of course not useful in any *financial* way, but helped me better understand the library and the problem.\n",
    "Now, we can scale up things a bit.\n",
    "# Introducing the time dimension: we can now open positions every day.\n",
    "Now, we'd like the variables to represent having a stock for a given day, not the stock itself. We'll consider a positive value as *call stock XXX on day YYY*, while a negative as a puts. For now, we'll consider positions to only be closed on the last day: what is called/put, stays open until the last day. \n",
    "## Expected results\n",
    "The results will probably be simple: the stock/day couple with the maximum difference from the last day will be the only stock being $> 0$."
   ]
  },
  {
   "cell_type": "code",
   "execution_count": 13,
   "metadata": {},
   "outputs": [],
   "source": [
    "always_open = LpProblem(\"OpenWhenPossibleCloseOnLastDay\", LpMaximize)\n"
   ]
  },
  {
   "cell_type": "markdown",
   "metadata": {},
   "source": [
    "We now want to add two columns: an `index` column, containing an identifier for a given stock in a given day, and a `difference` column, stating the price different between that day open and the last day's close."
   ]
  },
  {
   "cell_type": "code",
   "execution_count": 14,
   "metadata": {
    "scrolled": true
   },
   "outputs": [
    {
     "data": {
      "text/html": [
       "<div>\n",
       "<style scoped>\n",
       "    .dataframe tbody tr th:only-of-type {\n",
       "        vertical-align: middle;\n",
       "    }\n",
       "\n",
       "    .dataframe tbody tr th {\n",
       "        vertical-align: top;\n",
       "    }\n",
       "\n",
       "    .dataframe thead th {\n",
       "        text-align: right;\n",
       "    }\n",
       "</style>\n",
       "<table border=\"1\" class=\"dataframe\">\n",
       "  <thead>\n",
       "    <tr style=\"text-align: right;\">\n",
       "      <th></th>\n",
       "      <th>date</th>\n",
       "      <th>open</th>\n",
       "      <th>high</th>\n",
       "      <th>low</th>\n",
       "      <th>close</th>\n",
       "      <th>volume</th>\n",
       "      <th>Name</th>\n",
       "      <th>index</th>\n",
       "    </tr>\n",
       "  </thead>\n",
       "  <tbody>\n",
       "    <tr>\n",
       "      <th>0</th>\n",
       "      <td>2013-02-08</td>\n",
       "      <td>15.07</td>\n",
       "      <td>15.12</td>\n",
       "      <td>14.63</td>\n",
       "      <td>14.75</td>\n",
       "      <td>8407500</td>\n",
       "      <td>AAL</td>\n",
       "      <td>AAL2013-02-08</td>\n",
       "    </tr>\n",
       "    <tr>\n",
       "      <th>1</th>\n",
       "      <td>2013-02-11</td>\n",
       "      <td>14.89</td>\n",
       "      <td>15.01</td>\n",
       "      <td>14.26</td>\n",
       "      <td>14.46</td>\n",
       "      <td>8882000</td>\n",
       "      <td>AAL</td>\n",
       "      <td>AAL2013-02-11</td>\n",
       "    </tr>\n",
       "    <tr>\n",
       "      <th>2</th>\n",
       "      <td>2013-02-12</td>\n",
       "      <td>14.45</td>\n",
       "      <td>14.51</td>\n",
       "      <td>14.10</td>\n",
       "      <td>14.27</td>\n",
       "      <td>8126000</td>\n",
       "      <td>AAL</td>\n",
       "      <td>AAL2013-02-12</td>\n",
       "    </tr>\n",
       "    <tr>\n",
       "      <th>3</th>\n",
       "      <td>2013-02-13</td>\n",
       "      <td>14.30</td>\n",
       "      <td>14.94</td>\n",
       "      <td>14.25</td>\n",
       "      <td>14.66</td>\n",
       "      <td>10259500</td>\n",
       "      <td>AAL</td>\n",
       "      <td>AAL2013-02-13</td>\n",
       "    </tr>\n",
       "    <tr>\n",
       "      <th>4</th>\n",
       "      <td>2013-02-14</td>\n",
       "      <td>14.94</td>\n",
       "      <td>14.96</td>\n",
       "      <td>13.16</td>\n",
       "      <td>13.99</td>\n",
       "      <td>31879900</td>\n",
       "      <td>AAL</td>\n",
       "      <td>AAL2013-02-14</td>\n",
       "    </tr>\n",
       "    <tr>\n",
       "      <th>...</th>\n",
       "      <td>...</td>\n",
       "      <td>...</td>\n",
       "      <td>...</td>\n",
       "      <td>...</td>\n",
       "      <td>...</td>\n",
       "      <td>...</td>\n",
       "      <td>...</td>\n",
       "      <td>...</td>\n",
       "    </tr>\n",
       "    <tr>\n",
       "      <th>619035</th>\n",
       "      <td>2018-02-01</td>\n",
       "      <td>76.84</td>\n",
       "      <td>78.27</td>\n",
       "      <td>76.69</td>\n",
       "      <td>77.82</td>\n",
       "      <td>2982259</td>\n",
       "      <td>ZTS</td>\n",
       "      <td>ZTS2018-02-01</td>\n",
       "    </tr>\n",
       "    <tr>\n",
       "      <th>619036</th>\n",
       "      <td>2018-02-02</td>\n",
       "      <td>77.53</td>\n",
       "      <td>78.12</td>\n",
       "      <td>76.73</td>\n",
       "      <td>76.78</td>\n",
       "      <td>2595187</td>\n",
       "      <td>ZTS</td>\n",
       "      <td>ZTS2018-02-02</td>\n",
       "    </tr>\n",
       "    <tr>\n",
       "      <th>619037</th>\n",
       "      <td>2018-02-05</td>\n",
       "      <td>76.64</td>\n",
       "      <td>76.92</td>\n",
       "      <td>73.18</td>\n",
       "      <td>73.83</td>\n",
       "      <td>2962031</td>\n",
       "      <td>ZTS</td>\n",
       "      <td>ZTS2018-02-05</td>\n",
       "    </tr>\n",
       "    <tr>\n",
       "      <th>619038</th>\n",
       "      <td>2018-02-06</td>\n",
       "      <td>72.74</td>\n",
       "      <td>74.56</td>\n",
       "      <td>72.13</td>\n",
       "      <td>73.27</td>\n",
       "      <td>4924323</td>\n",
       "      <td>ZTS</td>\n",
       "      <td>ZTS2018-02-06</td>\n",
       "    </tr>\n",
       "    <tr>\n",
       "      <th>619039</th>\n",
       "      <td>2018-02-07</td>\n",
       "      <td>72.70</td>\n",
       "      <td>75.00</td>\n",
       "      <td>72.69</td>\n",
       "      <td>73.86</td>\n",
       "      <td>4534912</td>\n",
       "      <td>ZTS</td>\n",
       "      <td>ZTS2018-02-07</td>\n",
       "    </tr>\n",
       "  </tbody>\n",
       "</table>\n",
       "<p>619029 rows × 8 columns</p>\n",
       "</div>"
      ],
      "text/plain": [
       "              date   open   high    low  close    volume Name          index\n",
       "0       2013-02-08  15.07  15.12  14.63  14.75   8407500  AAL  AAL2013-02-08\n",
       "1       2013-02-11  14.89  15.01  14.26  14.46   8882000  AAL  AAL2013-02-11\n",
       "2       2013-02-12  14.45  14.51  14.10  14.27   8126000  AAL  AAL2013-02-12\n",
       "3       2013-02-13  14.30  14.94  14.25  14.66  10259500  AAL  AAL2013-02-13\n",
       "4       2013-02-14  14.94  14.96  13.16  13.99  31879900  AAL  AAL2013-02-14\n",
       "...            ...    ...    ...    ...    ...       ...  ...            ...\n",
       "619035  2018-02-01  76.84  78.27  76.69  77.82   2982259  ZTS  ZTS2018-02-01\n",
       "619036  2018-02-02  77.53  78.12  76.73  76.78   2595187  ZTS  ZTS2018-02-02\n",
       "619037  2018-02-05  76.64  76.92  73.18  73.83   2962031  ZTS  ZTS2018-02-05\n",
       "619038  2018-02-06  72.74  74.56  72.13  73.27   4924323  ZTS  ZTS2018-02-06\n",
       "619039  2018-02-07  72.70  75.00  72.69  73.86   4534912  ZTS  ZTS2018-02-07\n",
       "\n",
       "[619029 rows x 8 columns]"
      ]
     },
     "execution_count": 14,
     "metadata": {},
     "output_type": "execute_result"
    }
   ],
   "source": [
    "historical_data[\"index\"] = historical_data.Name+historical_data.date\n",
    "historical_data"
   ]
  },
  {
   "cell_type": "code",
   "execution_count": 15,
   "metadata": {
    "scrolled": true
   },
   "outputs": [
    {
     "name": "stderr",
     "output_type": "stream",
     "text": [
      "100%|██████████| 505/505 [00:46<00:00, 10.95it/s]\n"
     ]
    }
   ],
   "source": [
    "for symbol in tqdm(symbols):\n",
    "    close = historical_data[historical_data[\"Name\"]==symbol].iloc[-1][\"close\"]\n",
    "    historical_data.loc[historical_data.Name==symbol,\"Difference\"] = close - historical_data.loc[historical_data.Name==symbol, \"open\"]"
   ]
  },
  {
   "cell_type": "code",
   "execution_count": 16,
   "metadata": {
    "scrolled": true
   },
   "outputs": [
    {
     "data": {
      "text/html": [
       "<div>\n",
       "<style scoped>\n",
       "    .dataframe tbody tr th:only-of-type {\n",
       "        vertical-align: middle;\n",
       "    }\n",
       "\n",
       "    .dataframe tbody tr th {\n",
       "        vertical-align: top;\n",
       "    }\n",
       "\n",
       "    .dataframe thead th {\n",
       "        text-align: right;\n",
       "    }\n",
       "</style>\n",
       "<table border=\"1\" class=\"dataframe\">\n",
       "  <thead>\n",
       "    <tr style=\"text-align: right;\">\n",
       "      <th></th>\n",
       "      <th>date</th>\n",
       "      <th>open</th>\n",
       "      <th>high</th>\n",
       "      <th>low</th>\n",
       "      <th>close</th>\n",
       "      <th>volume</th>\n",
       "      <th>Name</th>\n",
       "      <th>index</th>\n",
       "      <th>Difference</th>\n",
       "    </tr>\n",
       "  </thead>\n",
       "  <tbody>\n",
       "    <tr>\n",
       "      <th>0</th>\n",
       "      <td>2013-02-08</td>\n",
       "      <td>15.07</td>\n",
       "      <td>15.12</td>\n",
       "      <td>14.63</td>\n",
       "      <td>14.75</td>\n",
       "      <td>8407500</td>\n",
       "      <td>AAL</td>\n",
       "      <td>AAL2013-02-08</td>\n",
       "      <td>36.33</td>\n",
       "    </tr>\n",
       "    <tr>\n",
       "      <th>1</th>\n",
       "      <td>2013-02-11</td>\n",
       "      <td>14.89</td>\n",
       "      <td>15.01</td>\n",
       "      <td>14.26</td>\n",
       "      <td>14.46</td>\n",
       "      <td>8882000</td>\n",
       "      <td>AAL</td>\n",
       "      <td>AAL2013-02-11</td>\n",
       "      <td>36.51</td>\n",
       "    </tr>\n",
       "    <tr>\n",
       "      <th>2</th>\n",
       "      <td>2013-02-12</td>\n",
       "      <td>14.45</td>\n",
       "      <td>14.51</td>\n",
       "      <td>14.10</td>\n",
       "      <td>14.27</td>\n",
       "      <td>8126000</td>\n",
       "      <td>AAL</td>\n",
       "      <td>AAL2013-02-12</td>\n",
       "      <td>36.95</td>\n",
       "    </tr>\n",
       "    <tr>\n",
       "      <th>3</th>\n",
       "      <td>2013-02-13</td>\n",
       "      <td>14.30</td>\n",
       "      <td>14.94</td>\n",
       "      <td>14.25</td>\n",
       "      <td>14.66</td>\n",
       "      <td>10259500</td>\n",
       "      <td>AAL</td>\n",
       "      <td>AAL2013-02-13</td>\n",
       "      <td>37.10</td>\n",
       "    </tr>\n",
       "    <tr>\n",
       "      <th>4</th>\n",
       "      <td>2013-02-14</td>\n",
       "      <td>14.94</td>\n",
       "      <td>14.96</td>\n",
       "      <td>13.16</td>\n",
       "      <td>13.99</td>\n",
       "      <td>31879900</td>\n",
       "      <td>AAL</td>\n",
       "      <td>AAL2013-02-14</td>\n",
       "      <td>36.46</td>\n",
       "    </tr>\n",
       "    <tr>\n",
       "      <th>...</th>\n",
       "      <td>...</td>\n",
       "      <td>...</td>\n",
       "      <td>...</td>\n",
       "      <td>...</td>\n",
       "      <td>...</td>\n",
       "      <td>...</td>\n",
       "      <td>...</td>\n",
       "      <td>...</td>\n",
       "      <td>...</td>\n",
       "    </tr>\n",
       "    <tr>\n",
       "      <th>619035</th>\n",
       "      <td>2018-02-01</td>\n",
       "      <td>76.84</td>\n",
       "      <td>78.27</td>\n",
       "      <td>76.69</td>\n",
       "      <td>77.82</td>\n",
       "      <td>2982259</td>\n",
       "      <td>ZTS</td>\n",
       "      <td>ZTS2018-02-01</td>\n",
       "      <td>-2.98</td>\n",
       "    </tr>\n",
       "    <tr>\n",
       "      <th>619036</th>\n",
       "      <td>2018-02-02</td>\n",
       "      <td>77.53</td>\n",
       "      <td>78.12</td>\n",
       "      <td>76.73</td>\n",
       "      <td>76.78</td>\n",
       "      <td>2595187</td>\n",
       "      <td>ZTS</td>\n",
       "      <td>ZTS2018-02-02</td>\n",
       "      <td>-3.67</td>\n",
       "    </tr>\n",
       "    <tr>\n",
       "      <th>619037</th>\n",
       "      <td>2018-02-05</td>\n",
       "      <td>76.64</td>\n",
       "      <td>76.92</td>\n",
       "      <td>73.18</td>\n",
       "      <td>73.83</td>\n",
       "      <td>2962031</td>\n",
       "      <td>ZTS</td>\n",
       "      <td>ZTS2018-02-05</td>\n",
       "      <td>-2.78</td>\n",
       "    </tr>\n",
       "    <tr>\n",
       "      <th>619038</th>\n",
       "      <td>2018-02-06</td>\n",
       "      <td>72.74</td>\n",
       "      <td>74.56</td>\n",
       "      <td>72.13</td>\n",
       "      <td>73.27</td>\n",
       "      <td>4924323</td>\n",
       "      <td>ZTS</td>\n",
       "      <td>ZTS2018-02-06</td>\n",
       "      <td>1.12</td>\n",
       "    </tr>\n",
       "    <tr>\n",
       "      <th>619039</th>\n",
       "      <td>2018-02-07</td>\n",
       "      <td>72.70</td>\n",
       "      <td>75.00</td>\n",
       "      <td>72.69</td>\n",
       "      <td>73.86</td>\n",
       "      <td>4534912</td>\n",
       "      <td>ZTS</td>\n",
       "      <td>ZTS2018-02-07</td>\n",
       "      <td>1.16</td>\n",
       "    </tr>\n",
       "  </tbody>\n",
       "</table>\n",
       "<p>619029 rows × 9 columns</p>\n",
       "</div>"
      ],
      "text/plain": [
       "              date   open   high    low  close    volume Name          index  \\\n",
       "0       2013-02-08  15.07  15.12  14.63  14.75   8407500  AAL  AAL2013-02-08   \n",
       "1       2013-02-11  14.89  15.01  14.26  14.46   8882000  AAL  AAL2013-02-11   \n",
       "2       2013-02-12  14.45  14.51  14.10  14.27   8126000  AAL  AAL2013-02-12   \n",
       "3       2013-02-13  14.30  14.94  14.25  14.66  10259500  AAL  AAL2013-02-13   \n",
       "4       2013-02-14  14.94  14.96  13.16  13.99  31879900  AAL  AAL2013-02-14   \n",
       "...            ...    ...    ...    ...    ...       ...  ...            ...   \n",
       "619035  2018-02-01  76.84  78.27  76.69  77.82   2982259  ZTS  ZTS2018-02-01   \n",
       "619036  2018-02-02  77.53  78.12  76.73  76.78   2595187  ZTS  ZTS2018-02-02   \n",
       "619037  2018-02-05  76.64  76.92  73.18  73.83   2962031  ZTS  ZTS2018-02-05   \n",
       "619038  2018-02-06  72.74  74.56  72.13  73.27   4924323  ZTS  ZTS2018-02-06   \n",
       "619039  2018-02-07  72.70  75.00  72.69  73.86   4534912  ZTS  ZTS2018-02-07   \n",
       "\n",
       "        Difference  \n",
       "0            36.33  \n",
       "1            36.51  \n",
       "2            36.95  \n",
       "3            37.10  \n",
       "4            36.46  \n",
       "...            ...  \n",
       "619035       -2.98  \n",
       "619036       -3.67  \n",
       "619037       -2.78  \n",
       "619038        1.12  \n",
       "619039        1.16  \n",
       "\n",
       "[619029 rows x 9 columns]"
      ]
     },
     "execution_count": 16,
     "metadata": {},
     "output_type": "execute_result"
    }
   ],
   "source": [
    "historical_data"
   ]
  },
  {
   "cell_type": "markdown",
   "metadata": {},
   "source": [
    "Now, for each row we'll create a PuLP variable then define the objective function"
   ]
  },
  {
   "cell_type": "code",
   "execution_count": 17,
   "metadata": {
    "scrolled": true
   },
   "outputs": [
    {
     "name": "stderr",
     "output_type": "stream",
     "text": [
      "100%|██████████| 619029/619029 [00:01<00:00, 335087.91it/s]\n",
      "  0%|          | 659/619029 [00:00<01:33, 6589.08it/s]"
     ]
    },
    {
     "name": "stdout",
     "output_type": "stream",
     "text": [
      "Created the variables...\n",
      "Now creating the objective function\n"
     ]
    },
    {
     "name": "stderr",
     "output_type": "stream",
     "text": [
      "100%|██████████| 619029/619029 [01:24<00:00, 7367.19it/s]\n",
      "  0%|          | 458/619029 [00:00<02:15, 4573.73it/s]"
     ]
    },
    {
     "name": "stdout",
     "output_type": "stream",
     "text": [
      "Created the objective function...\n",
      "Now creating the constraints\n"
     ]
    },
    {
     "name": "stderr",
     "output_type": "stream",
     "text": [
      "100%|██████████| 619029/619029 [01:26<00:00, 7132.66it/s]\n"
     ]
    }
   ],
   "source": [
    "# Then, for each difference we'll want to create a PuLP variable, with no upper/lower bounds, continuous: basically, the default\n",
    "always_open_variables = [LpVariable(firm) for firm in tqdm(historical_data[\"index\"])]\n",
    "print(\"Created the variables...\\nNow creating the objective function\")\n",
    "\n",
    "always_open += lpSum([historical_data.iloc[i][\"Difference\"] * always_open_variables[i] for i in tqdm(range(len(historical_data[\"index\"])))])\n",
    "print(\"Created the objective function...\\nNow creating the constraints\")\n",
    "always_open += (lpSum([historical_data.iloc[i][\"open\"] * always_open_variables[i] for i in tqdm(range(len(historical_data[\"index\"])))])) <= 1000.00\n"
   ]
  },
  {
   "cell_type": "code",
   "execution_count": 18,
   "metadata": {},
   "outputs": [
    {
     "name": "stdout",
     "output_type": "stream",
     "text": [
      "Unbounded\n"
     ]
    }
   ],
   "source": [
    "status = always_open.solve()\n",
    "print(LpStatus[status])"
   ]
  },
  {
   "cell_type": "code",
   "execution_count": 19,
   "metadata": {
    "scrolled": false
   },
   "outputs": [
    {
     "name": "stdout",
     "output_type": "stream",
     "text": [
      "RCL2013_04_05 = 31.897927\n"
     ]
    }
   ],
   "source": [
    "# Each of the variables is printed with it's resolved optimum value\n",
    "for v in always_open.variables():\n",
    "    if v.varValue>0:\n",
    "        print(v.name, \"=\", v.varValue)"
   ]
  },
  {
   "cell_type": "markdown",
   "metadata": {},
   "source": [
    "As we expected, the only bought stock was the *Royal Caribbean* on May the 5th, 2013."
   ]
  },
  {
   "cell_type": "markdown",
   "metadata": {},
   "source": [
    "# Day trading: buy at open, sell at close\n",
    "We first have to add a `DayDifference` stating our profit per stock if we buy at open and sell at close. I'd expect the outcome to be the maximum purchasable quantity of the most increasing stock for each day. Nothing that interesting but still a small leap forward. We'll use a reduced dataset since now it is computationally heavier."
   ]
  },
  {
   "cell_type": "code",
   "execution_count": 20,
   "metadata": {},
   "outputs": [],
   "source": [
    "historical_data_simplified = historical_data.head(10000)"
   ]
  },
  {
   "cell_type": "code",
   "execution_count": 21,
   "metadata": {
    "scrolled": true
   },
   "outputs": [
    {
     "name": "stderr",
     "output_type": "stream",
     "text": [
      "<ipython-input-21-28b44fe4bc70>:1: SettingWithCopyWarning: \n",
      "A value is trying to be set on a copy of a slice from a DataFrame.\n",
      "Try using .loc[row_indexer,col_indexer] = value instead\n",
      "\n",
      "See the caveats in the documentation: https://pandas.pydata.org/pandas-docs/stable/user_guide/indexing.html#returning-a-view-versus-a-copy\n",
      "  historical_data_simplified[\"DayDifference\"] = historical_data_simplified[\"close\"]- historical_data_simplified[\"open\"]\n"
     ]
    },
    {
     "data": {
      "text/html": [
       "<div>\n",
       "<style scoped>\n",
       "    .dataframe tbody tr th:only-of-type {\n",
       "        vertical-align: middle;\n",
       "    }\n",
       "\n",
       "    .dataframe tbody tr th {\n",
       "        vertical-align: top;\n",
       "    }\n",
       "\n",
       "    .dataframe thead th {\n",
       "        text-align: right;\n",
       "    }\n",
       "</style>\n",
       "<table border=\"1\" class=\"dataframe\">\n",
       "  <thead>\n",
       "    <tr style=\"text-align: right;\">\n",
       "      <th></th>\n",
       "      <th>date</th>\n",
       "      <th>open</th>\n",
       "      <th>high</th>\n",
       "      <th>low</th>\n",
       "      <th>close</th>\n",
       "      <th>volume</th>\n",
       "      <th>Name</th>\n",
       "      <th>index</th>\n",
       "      <th>Difference</th>\n",
       "      <th>DayDifference</th>\n",
       "    </tr>\n",
       "  </thead>\n",
       "  <tbody>\n",
       "    <tr>\n",
       "      <th>0</th>\n",
       "      <td>2013-02-08</td>\n",
       "      <td>15.07</td>\n",
       "      <td>15.12</td>\n",
       "      <td>14.630</td>\n",
       "      <td>14.75</td>\n",
       "      <td>8407500</td>\n",
       "      <td>AAL</td>\n",
       "      <td>AAL2013-02-08</td>\n",
       "      <td>36.33</td>\n",
       "      <td>-0.32</td>\n",
       "    </tr>\n",
       "    <tr>\n",
       "      <th>1</th>\n",
       "      <td>2013-02-11</td>\n",
       "      <td>14.89</td>\n",
       "      <td>15.01</td>\n",
       "      <td>14.260</td>\n",
       "      <td>14.46</td>\n",
       "      <td>8882000</td>\n",
       "      <td>AAL</td>\n",
       "      <td>AAL2013-02-11</td>\n",
       "      <td>36.51</td>\n",
       "      <td>-0.43</td>\n",
       "    </tr>\n",
       "    <tr>\n",
       "      <th>2</th>\n",
       "      <td>2013-02-12</td>\n",
       "      <td>14.45</td>\n",
       "      <td>14.51</td>\n",
       "      <td>14.100</td>\n",
       "      <td>14.27</td>\n",
       "      <td>8126000</td>\n",
       "      <td>AAL</td>\n",
       "      <td>AAL2013-02-12</td>\n",
       "      <td>36.95</td>\n",
       "      <td>-0.18</td>\n",
       "    </tr>\n",
       "    <tr>\n",
       "      <th>3</th>\n",
       "      <td>2013-02-13</td>\n",
       "      <td>14.30</td>\n",
       "      <td>14.94</td>\n",
       "      <td>14.250</td>\n",
       "      <td>14.66</td>\n",
       "      <td>10259500</td>\n",
       "      <td>AAL</td>\n",
       "      <td>AAL2013-02-13</td>\n",
       "      <td>37.10</td>\n",
       "      <td>0.36</td>\n",
       "    </tr>\n",
       "    <tr>\n",
       "      <th>4</th>\n",
       "      <td>2013-02-14</td>\n",
       "      <td>14.94</td>\n",
       "      <td>14.96</td>\n",
       "      <td>13.160</td>\n",
       "      <td>13.99</td>\n",
       "      <td>31879900</td>\n",
       "      <td>AAL</td>\n",
       "      <td>AAL2013-02-14</td>\n",
       "      <td>36.46</td>\n",
       "      <td>-0.95</td>\n",
       "    </tr>\n",
       "    <tr>\n",
       "      <th>...</th>\n",
       "      <td>...</td>\n",
       "      <td>...</td>\n",
       "      <td>...</td>\n",
       "      <td>...</td>\n",
       "      <td>...</td>\n",
       "      <td>...</td>\n",
       "      <td>...</td>\n",
       "      <td>...</td>\n",
       "      <td>...</td>\n",
       "      <td>...</td>\n",
       "    </tr>\n",
       "    <tr>\n",
       "      <th>9995</th>\n",
       "      <td>2017-10-18</td>\n",
       "      <td>150.33</td>\n",
       "      <td>153.43</td>\n",
       "      <td>149.030</td>\n",
       "      <td>153.00</td>\n",
       "      <td>4290947</td>\n",
       "      <td>ADBE</td>\n",
       "      <td>ADBE2017-10-18</td>\n",
       "      <td>42.01</td>\n",
       "      <td>2.67</td>\n",
       "    </tr>\n",
       "    <tr>\n",
       "      <th>9996</th>\n",
       "      <td>2017-10-19</td>\n",
       "      <td>165.50</td>\n",
       "      <td>172.15</td>\n",
       "      <td>164.420</td>\n",
       "      <td>171.73</td>\n",
       "      <td>13522642</td>\n",
       "      <td>ADBE</td>\n",
       "      <td>ADBE2017-10-19</td>\n",
       "      <td>26.84</td>\n",
       "      <td>6.23</td>\n",
       "    </tr>\n",
       "    <tr>\n",
       "      <th>9997</th>\n",
       "      <td>2017-10-20</td>\n",
       "      <td>171.50</td>\n",
       "      <td>175.87</td>\n",
       "      <td>171.355</td>\n",
       "      <td>175.64</td>\n",
       "      <td>6019412</td>\n",
       "      <td>ADBE</td>\n",
       "      <td>ADBE2017-10-20</td>\n",
       "      <td>20.84</td>\n",
       "      <td>4.14</td>\n",
       "    </tr>\n",
       "    <tr>\n",
       "      <th>9998</th>\n",
       "      <td>2017-10-23</td>\n",
       "      <td>175.68</td>\n",
       "      <td>175.85</td>\n",
       "      <td>171.830</td>\n",
       "      <td>172.16</td>\n",
       "      <td>3220814</td>\n",
       "      <td>ADBE</td>\n",
       "      <td>ADBE2017-10-23</td>\n",
       "      <td>16.66</td>\n",
       "      <td>-3.52</td>\n",
       "    </tr>\n",
       "    <tr>\n",
       "      <th>9999</th>\n",
       "      <td>2017-10-24</td>\n",
       "      <td>171.47</td>\n",
       "      <td>172.49</td>\n",
       "      <td>170.491</td>\n",
       "      <td>171.58</td>\n",
       "      <td>2658577</td>\n",
       "      <td>ADBE</td>\n",
       "      <td>ADBE2017-10-24</td>\n",
       "      <td>20.87</td>\n",
       "      <td>0.11</td>\n",
       "    </tr>\n",
       "  </tbody>\n",
       "</table>\n",
       "<p>10000 rows × 10 columns</p>\n",
       "</div>"
      ],
      "text/plain": [
       "            date    open    high      low   close    volume  Name  \\\n",
       "0     2013-02-08   15.07   15.12   14.630   14.75   8407500   AAL   \n",
       "1     2013-02-11   14.89   15.01   14.260   14.46   8882000   AAL   \n",
       "2     2013-02-12   14.45   14.51   14.100   14.27   8126000   AAL   \n",
       "3     2013-02-13   14.30   14.94   14.250   14.66  10259500   AAL   \n",
       "4     2013-02-14   14.94   14.96   13.160   13.99  31879900   AAL   \n",
       "...          ...     ...     ...      ...     ...       ...   ...   \n",
       "9995  2017-10-18  150.33  153.43  149.030  153.00   4290947  ADBE   \n",
       "9996  2017-10-19  165.50  172.15  164.420  171.73  13522642  ADBE   \n",
       "9997  2017-10-20  171.50  175.87  171.355  175.64   6019412  ADBE   \n",
       "9998  2017-10-23  175.68  175.85  171.830  172.16   3220814  ADBE   \n",
       "9999  2017-10-24  171.47  172.49  170.491  171.58   2658577  ADBE   \n",
       "\n",
       "               index  Difference  DayDifference  \n",
       "0      AAL2013-02-08       36.33          -0.32  \n",
       "1      AAL2013-02-11       36.51          -0.43  \n",
       "2      AAL2013-02-12       36.95          -0.18  \n",
       "3      AAL2013-02-13       37.10           0.36  \n",
       "4      AAL2013-02-14       36.46          -0.95  \n",
       "...              ...         ...            ...  \n",
       "9995  ADBE2017-10-18       42.01           2.67  \n",
       "9996  ADBE2017-10-19       26.84           6.23  \n",
       "9997  ADBE2017-10-20       20.84           4.14  \n",
       "9998  ADBE2017-10-23       16.66          -3.52  \n",
       "9999  ADBE2017-10-24       20.87           0.11  \n",
       "\n",
       "[10000 rows x 10 columns]"
      ]
     },
     "execution_count": 21,
     "metadata": {},
     "output_type": "execute_result"
    }
   ],
   "source": [
    "historical_data_simplified[\"DayDifference\"] = historical_data_simplified[\"close\"]- historical_data_simplified[\"open\"]\n",
    "historical_data_simplified"
   ]
  },
  {
   "cell_type": "code",
   "execution_count": 30,
   "metadata": {},
   "outputs": [],
   "source": [
    "day_trading = LpProblem(\"DayTrading\", LpMaximize)"
   ]
  },
  {
   "cell_type": "markdown",
   "metadata": {},
   "source": [
    "Now, let's think a bit about the problem: we now have a different cash availability each day. \n",
    "We'll want to constrain every day's expense to what was earned the day before: $\\sum_i^{n} \\textrm{stock_open}_i * \\textrm{stock_var}_i - \\sum_j^n \\textrm{stock_close}_{yesterday,i}*\\textrm{stock_var}_{yesterday,i} \\le 0$.\n",
    "We'll also need to specify that on the first day, we want to respect our budget: $\\sum_i^{n} \\textrm{stock_open}_i * \\textrm{stock_var}_i \\le 1000$"
   ]
  },
  {
   "cell_type": "code",
   "execution_count": 31,
   "metadata": {
    "scrolled": false
   },
   "outputs": [
    {
     "name": "stderr",
     "output_type": "stream",
     "text": [
      "100%|██████████| 10000/10000 [00:00<00:00, 290816.71it/s]\n"
     ]
    }
   ],
   "source": [
    "day_trading_stock_vars = {index.replace(\"-\", \"_\"):LpVariable(index) for index in tqdm(historical_data_simplified[\"index\"])} # The replace is needed because PuLP does the same\n",
    "date_list = [date.replace(\"-\", \"_\") for date in historical_data_simplified[\"date\"].unique()]"
   ]
  },
  {
   "cell_type": "code",
   "execution_count": 32,
   "metadata": {},
   "outputs": [
    {
     "name": "stderr",
     "output_type": "stream",
     "text": [
      "100%|██████████| 1257/1257 [00:35<00:00, 35.13it/s]\n"
     ]
    }
   ],
   "source": [
    "day_trading += (lpSum([historical_data_simplified[(historical_data_simplified[\"date\"]==\"2013-02-08\".replace(\"_\", \"-\"))&(historical_data_simplified[\"Name\"]==firm)][\"open\"]*(day_trading_stock_vars[firm+\"2013_02_08\"]) for firm in historical_data_simplified[\"Name\"].unique()])) <= 1000\n",
    "for i in tqdm(range(1, len(date_list)-1)):\n",
    "    date = str(date_list[i])\n",
    "    prevDate = str(date_list[i-1])\n",
    "    day_trading += (lpSum([historical_data_simplified[(historical_data_simplified[\"date\"]==date.replace(\"_\", \"-\"))&(historical_data_simplified[\"Name\"]==firm)][\"open\"]*(day_trading_stock_vars[firm+date] if firm+date in day_trading_stock_vars else 0) for firm in historical_data_simplified[\"Name\"].unique()])) - (lpSum([historical_data_simplified[(historical_data_simplified[\"date\"]==prevDate.replace(\"_\", \"-\"))&(historical_data_simplified[\"Name\"]==firm)][\"close\"]*(day_trading_stock_vars[firm+prevDate] if firm+prevDate in day_trading_stock_vars else 0) for firm in historical_data_simplified[\"Name\"].unique()]))<=0"
   ]
  },
  {
   "cell_type": "markdown",
   "metadata": {},
   "source": [
    "Finally, the **objective function**: we'll want to maximize the last day's money."
   ]
  },
  {
   "cell_type": "code",
   "execution_count": 33,
   "metadata": {},
   "outputs": [],
   "source": [
    "lastDay = str(date_list[i])\n",
    "day_trading += lpSum([historical_data_simplified[(historical_data_simplified[\"date\"]==lastDay.replace(\"_\", \"-\"))&(historical_data_simplified[\"Name\"]==firm)][\"close\"]*(day_trading_stock_vars[firm+date] if firm+date in day_trading_stock_vars else 0) for firm in historical_data_simplified[\"Name\"].unique()])"
   ]
  },
  {
   "cell_type": "markdown",
   "metadata": {},
   "source": [
    "Finally, we append the results to a `pd.DataFrame` to pretty-print and sort them."
   ]
  },
  {
   "cell_type": "code",
   "execution_count": 36,
   "metadata": {
    "scrolled": true
   },
   "outputs": [
    {
     "name": "stderr",
     "output_type": "stream",
     "text": [
      "100%|██████████| 9993/9993 [01:18<00:00, 127.29it/s]\n"
     ]
    }
   ],
   "source": [
    "day_trading.solve()\n",
    "results = pd.DataFrame(columns=[\"name\", \"date\", \"quantity\", \"value\"])\n",
    "for v in tqdm(day_trading.variables()):\n",
    "    if v.varValue > 0:\n",
    "        results = results.append({\"name\": v.name[:-10], \"date\": v.name[-10:], \"quantity\": v.varValue, \"value\":float(historical_data[(historical_data[\"Name\"]==v.name[:-10])&(historical_data[\"date\"]==v.name[-10:].replace(\"_\", \"-\"))][\"close\"])*v.varValue}, ignore_index=True)"
   ]
  },
  {
   "cell_type": "code",
   "execution_count": 37,
   "metadata": {},
   "outputs": [
    {
     "data": {
      "text/html": [
       "<div>\n",
       "<style scoped>\n",
       "    .dataframe tbody tr th:only-of-type {\n",
       "        vertical-align: middle;\n",
       "    }\n",
       "\n",
       "    .dataframe tbody tr th {\n",
       "        vertical-align: top;\n",
       "    }\n",
       "\n",
       "    .dataframe thead th {\n",
       "        text-align: right;\n",
       "    }\n",
       "</style>\n",
       "<table border=\"1\" class=\"dataframe\">\n",
       "  <thead>\n",
       "    <tr style=\"text-align: right;\">\n",
       "      <th></th>\n",
       "      <th>name</th>\n",
       "      <th>date</th>\n",
       "      <th>quantity</th>\n",
       "      <th>value</th>\n",
       "    </tr>\n",
       "  </thead>\n",
       "  <tbody>\n",
       "    <tr>\n",
       "      <th>837</th>\n",
       "      <td>ABC</td>\n",
       "      <td>2013_02_08</td>\n",
       "      <td>21.496131</td>\n",
       "      <td>1.007954e+03</td>\n",
       "    </tr>\n",
       "    <tr>\n",
       "      <th>838</th>\n",
       "      <td>ABC</td>\n",
       "      <td>2013_02_11</td>\n",
       "      <td>21.514484</td>\n",
       "      <td>1.006017e+03</td>\n",
       "    </tr>\n",
       "    <tr>\n",
       "      <th>1057</th>\n",
       "      <td>ACN</td>\n",
       "      <td>2013_02_12</td>\n",
       "      <td>13.801856</td>\n",
       "      <td>1.012642e+03</td>\n",
       "    </tr>\n",
       "    <tr>\n",
       "      <th>0</th>\n",
       "      <td>AAL</td>\n",
       "      <td>2013_02_13</td>\n",
       "      <td>70.814137</td>\n",
       "      <td>1.038135e+03</td>\n",
       "    </tr>\n",
       "    <tr>\n",
       "      <th>1058</th>\n",
       "      <td>ACN</td>\n",
       "      <td>2013_02_14</td>\n",
       "      <td>14.180238</td>\n",
       "      <td>1.037001e+03</td>\n",
       "    </tr>\n",
       "    <tr>\n",
       "      <th>...</th>\n",
       "      <td>...</td>\n",
       "      <td>...</td>\n",
       "      <td>...</td>\n",
       "      <td>...</td>\n",
       "    </tr>\n",
       "    <tr>\n",
       "      <th>294</th>\n",
       "      <td>AAL</td>\n",
       "      <td>2018_01_31</td>\n",
       "      <td>303322.620000</td>\n",
       "      <td>1.647648e+07</td>\n",
       "    </tr>\n",
       "    <tr>\n",
       "      <th>558</th>\n",
       "      <td>AAP</td>\n",
       "      <td>2018_02_01</td>\n",
       "      <td>141745.400000</td>\n",
       "      <td>1.662532e+07</td>\n",
       "    </tr>\n",
       "    <tr>\n",
       "      <th>295</th>\n",
       "      <td>AAL</td>\n",
       "      <td>2018_02_02</td>\n",
       "      <td>310811.690000</td>\n",
       "      <td>1.619329e+07</td>\n",
       "    </tr>\n",
       "    <tr>\n",
       "      <th>707</th>\n",
       "      <td>AAPL</td>\n",
       "      <td>2018_02_05</td>\n",
       "      <td>101780.570000</td>\n",
       "      <td>1.592764e+07</td>\n",
       "    </tr>\n",
       "    <tr>\n",
       "      <th>836</th>\n",
       "      <td>ABBV</td>\n",
       "      <td>2018_02_06</td>\n",
       "      <td>151821.960000</td>\n",
       "      <td>1.688260e+07</td>\n",
       "    </tr>\n",
       "  </tbody>\n",
       "</table>\n",
       "<p>1258 rows × 4 columns</p>\n",
       "</div>"
      ],
      "text/plain": [
       "      name        date       quantity         value\n",
       "837    ABC  2013_02_08      21.496131  1.007954e+03\n",
       "838    ABC  2013_02_11      21.514484  1.006017e+03\n",
       "1057   ACN  2013_02_12      13.801856  1.012642e+03\n",
       "0      AAL  2013_02_13      70.814137  1.038135e+03\n",
       "1058   ACN  2013_02_14      14.180238  1.037001e+03\n",
       "...    ...         ...            ...           ...\n",
       "294    AAL  2018_01_31  303322.620000  1.647648e+07\n",
       "558    AAP  2018_02_01  141745.400000  1.662532e+07\n",
       "295    AAL  2018_02_02  310811.690000  1.619329e+07\n",
       "707   AAPL  2018_02_05  101780.570000  1.592764e+07\n",
       "836   ABBV  2018_02_06  151821.960000  1.688260e+07\n",
       "\n",
       "[1258 rows x 4 columns]"
      ]
     },
     "execution_count": 37,
     "metadata": {},
     "output_type": "execute_result"
    }
   ],
   "source": [
    "results.sort_values(\"date\")"
   ]
  },
  {
   "cell_type": "markdown",
   "metadata": {},
   "source": [
    "# Finally: open and close positions every day\n",
    "To do this, I probably need a new class of variables: something that tells us when a position is closed. A good idea might be having binary variables multiplied by the positions and their inverse multiplied by the initial buying price to get the money we have in the bank."
   ]
  }
 ],
 "metadata": {
  "kernelspec": {
   "display_name": "lp-money-machine",
   "language": "python",
   "name": "lp-money-machine"
  },
  "language_info": {
   "codemirror_mode": {
    "name": "ipython",
    "version": 3
   },
   "file_extension": ".py",
   "mimetype": "text/x-python",
   "name": "python",
   "nbconvert_exporter": "python",
   "pygments_lexer": "ipython3",
   "version": "3.9.2"
  }
 },
 "nbformat": 4,
 "nbformat_minor": 1
}
